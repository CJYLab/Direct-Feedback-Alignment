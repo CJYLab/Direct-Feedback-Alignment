{
 "cells": [
  {
   "cell_type": "markdown",
   "metadata": {},
   "source": [
    "# DIRECT FEEDBACK ALIGNMENT"
   ]
  },
  {
   "cell_type": "markdown",
   "metadata": {},
   "source": [
    "In this notebook a linear neural net with one hidden layer learns to multiply by a matrix using [direct feedback alignment](https://arxiv.org/pdf/1609.01596.pdf) instead of backpropagation.\n",
    "\n",
    "In practice, it learns $ W_1 $, $W_2$ such that\n",
    "\n",
    "$$ M = W_2 W_1 $$"
   ]
  },
  {
   "cell_type": "code",
   "execution_count": 23,
   "metadata": {
    "collapsed": true
   },
   "outputs": [],
   "source": [
    "import numpy as np\n",
    "import matplotlib.pyplot as plt\n",
    "%matplotlib inline\n",
    "np.random.seed(1234)"
   ]
  },
  {
   "cell_type": "code",
   "execution_count": 57,
   "metadata": {
    "collapsed": true
   },
   "outputs": [],
   "source": [
    "def create_dataset(n_in, n_out, len_samples):\n",
    "    '''Creates randomly a matrix n_out x n_in which will be\n",
    "       the target function to learn. Then generates\n",
    "       len_samples examples which will be the training set'''\n",
    "    M = np.random.randint(low=-10, high=10, size=(n_out, n_in))\n",
    "    samples = []\n",
    "    targets = []    \n",
    "    for i in xrange(len_samples):\n",
    "        sample = np.random.randn(n_in)\n",
    "        samples.append(sample)\n",
    "        targets.append(np.dot(M, sample))\n",
    "        \n",
    "    return M, np.asarray(samples), np.asarray(targets)"
   ]
  },
  {
   "cell_type": "markdown",
   "metadata": {},
   "source": [
    "The forward pass is just\n",
    "\n",
    "$$ \\hat{y} = W_2 W_1 x$$\n",
    "\n",
    "The backward pass for DFA takes the error $e = \\hat{y}-y_{true}$ and projects it onto the dimension of the hidden layer:\n",
    "\n",
    "$$\\delta W_1 = -(B_1 e)x^T$$\n",
    "$$\\delta W_2 = -e a_1^T$$\n",
    "\n",
    "where $a_1 = W_1 x$."
   ]
  },
  {
   "cell_type": "code",
   "execution_count": 58,
   "metadata": {
    "collapsed": true
   },
   "outputs": [],
   "source": [
    "# Here lies all the logic of the network\n",
    "def forward_pass(input, W1, W2):\n",
    "    a1 = np.dot(W1, input)\n",
    "    y_hat = np.dot(W2, a1)\n",
    "    return a1, y_hat\n",
    "    \n",
    "def backward_pass(e, B1, input, a1):\n",
    "    dW1 = -(np.dot(np.dot(B1, e), np.transpose(input)))\n",
    "    dW2 = -np.dot(e, np.transpose(a1))\n",
    "    \n",
    "    return dW1, dW2"
   ]
  },
  {
   "cell_type": "markdown",
   "metadata": {},
   "source": [
    "## WHAT ALIGNS WITH WHAT?\n",
    "\n",
    "Theorem 1 in the paper states that the negative update directions $\\delta h_i$ will try to maximize an alignment criterion which, in the case of two hidden layers, is:\n",
    "\n",
    "$$L = L_k + L_{k+1} = \\frac{\\delta h_k^T c_k}{||\\delta h_k||} + \\frac{\\delta h_{k+1}^T c_{k+1}}{||\\delta h_{k+1}||}$$\n",
    "\n",
    "where\n",
    "\n",
    "$$c_k = \\frac{\\partial h_{k+1}}{\\partial h_k}\\delta h_{k+1} = W_{k+1}^T ( \\delta h_{k+1} \\odot f'(a_{k+1}))$$\n",
    "$$c_{k+1} = \\frac{\\partial h_{k+1}}{\\partial h_k^T}\\delta h_k = (W_{k+1} \\delta h_k) \\odot f'(a_{k+1})$$\n",
    "\n",
    "and $\\delta h_{k+1} = e$ if $k+1$ is the output layer, $\\delta h_k = B_k e$ for hidden layers.\n",
    "\n",
    "$L_k >0$ implies that the angle between $\\delta h_k$ and the backpropagated gradient $c_k$ is lower than $90°$:\n",
    "\n",
    "$$\\cos(\\beta) = \\frac{c_k^T \\delta h_k}{||c_k||||\\delta h_k||} = \\frac{L_k}{||c_k||}>0 \\rightarrow |\\beta|<90°$$\n",
    "\n",
    "Then $\\delta h_k$ is pointing in a descending direction, because a vector within 90° of the steepest descending direction is also in a descending direction."
   ]
  },
  {
   "cell_type": "code",
   "execution_count": 59,
   "metadata": {
    "collapsed": true
   },
   "outputs": [],
   "source": [
    "def angle(W2, B1, error):\n",
    "    dh1 = np.dot(B1, error)\n",
    "    c1 = np.dot(np.transpose(W2), error)\n",
    "    dh1mean = np.mean(dh1, axis=0)\n",
    "    c1mean = np.mean(c1, axis=0)\n",
    "    # NUMPY USES SVD TO COMPUTE THE NORM-2 AS THE LARGEST \n",
    "    # SINGULAR VALUE OF THE MATRIX.\n",
    "    # NORM-2 OF MATRICES NxM ARE PROPORTIONAL TO SQRT(NxM), THEREFORE\n",
    "    # WE NEED TO NORMALIZE. THIS ARGUMENT WOULD BE EVEN MORE SUITED\n",
    "    # FOR THE ENTRYWISE NORM-2, BUT TRIALS WITH A CUSTOM FUNCTION\n",
    "    # THAT COMPUTES IT HAVE SHOWN THAT THERE IS LITTLE DIFFERENCE,\n",
    "    # SO WE USE THE NUMPY FUNCTION WHICH IS FASTER.\n",
    "    \n",
    "    dh1_norm = np.linalg.norm(dh1mean)#/(np.sqrt(dh1.shape[0]*dh1.shape[1]))\n",
    "    c1_norm = np.linalg.norm(c1mean)#/(np.sqrt(c1.shape[0]*c1.shape[1]))\n",
    "    inverse_dh1_norm = np.power(dh1_norm, -1)\n",
    "    inverse_c1_norm = np.power(c1_norm, -1)\n",
    "    \n",
    "    # ALIGNMENT CRITERION AND ANGLE\n",
    "    Lk = np.dot(np.transpose(dh1mean), c1mean)*inverse_dh1_norm*inverse_c1_norm\n",
    "    beta = np.arccos(np.clip(Lk, -1., 1.))*180/np.pi\n",
    "    #Lk = np.mean(np.dot(np.transpose(dh1), c1)*inverse_dh1_norm*inverse_c1_norm)\n",
    "    #beta = np.arccos(np.clip(Lk, -1., 1.))*180/np.pi\n",
    "    return Lk, beta"
   ]
  },
  {
   "cell_type": "code",
   "execution_count": 81,
   "metadata": {
    "collapsed": true
   },
   "outputs": [],
   "source": [
    "def train(samples, targets, n_in, n_out, n_hidden, n_epoch=4000):\n",
    "    #learning rate\n",
    "    lr = 1e-7\n",
    "    #tolerance\n",
    "    tol = 1e-4\n",
    "    \n",
    "    # Initialization of weights - they can be initialized to zero\n",
    "    # (except when using ReLu activation functions) or randomly.\n",
    "    W1 = np.zeros((n_hidden, n_in)) #np.random.randn(n_hidden, n_in)\n",
    "    W2 = np.zeros((n_out, n_hidden)) #np.random.randn(n_out, n_hidden)\n",
    "    \n",
    "    # Initialization of the random feedback matrix - important\n",
    "    # constraint: zero mean.\n",
    "    B1 = np.random.randn(n_hidden, n_out)\n",
    "    \n",
    "    # initalize lists to save angles and alignment values during training\n",
    "    angles = []\n",
    "    Lk = []\n",
    "    \n",
    "    # transpose samples and targets to do batch training - in this case\n",
    "    # we train the net on the whole dataset at once.\n",
    "    samples = np.transpose(samples)\n",
    "    targets = np.transpose(targets)\n",
    "    \n",
    "    # TRAINING\n",
    "    for i in xrange(n_epoch):\n",
    "        a1, y_hat = forward_pass(samples, W1, W2)\n",
    "        errors = y_hat - targets\n",
    "        cost = 0.5*np.sum((y_hat-targets)**2)\n",
    "        dW1, dW2 = backward_pass(errors, B1, samples, a1)\n",
    "        W1 += lr*dW1\n",
    "        W2 += lr*dW2\n",
    "        # every 50 epochs excpet for the first one (weights are zero\n",
    "        # and norms go to zero -> numerical instability)\n",
    "        if (i-1)%10==0:\n",
    "            print 'Cost:', cost\n",
    "            print 'Computing angle between updates - epoch', i\n",
    "            crit, beta = angle(W2, B1, errors)\n",
    "            angles.append(beta)\n",
    "            Lk.append(crit)\n",
    "            print 'Alignment criterion:', crit, '> 0', crit > 0, '\\n'\n",
    "        if cost <= tol:\n",
    "            break\n",
    "    return W1, W2, angles, Lk"
   ]
  },
  {
   "cell_type": "code",
   "execution_count": 82,
   "metadata": {
    "collapsed": false
   },
   "outputs": [
    {
     "name": "stdout",
     "output_type": "stream",
     "text": [
      "Cost: 15992561.3868\n",
      "Computing angle between updates - epoch 1\n",
      "Alignment criterion: 0.906569341158 > 0 True \n",
      "\n",
      "Cost: 7961109.45625\n",
      "Computing angle between updates - epoch 11\n",
      "Alignment criterion: 0.875360626321 > 0 True \n",
      "\n",
      "Cost: 1118510.19115\n",
      "Computing angle between updates - epoch 21\n",
      "Alignment criterion: 0.912258465288 > 0 True \n",
      "\n",
      "Cost: 184206.842316\n",
      "Computing angle between updates - epoch 31\n",
      "Alignment criterion: 0.76246134712 > 0 True \n",
      "\n",
      "Cost: 53122.0118677\n",
      "Computing angle between updates - epoch 41\n",
      "Alignment criterion: 0.188034560527 > 0 True \n",
      "\n",
      "Cost: 27884.9627549\n",
      "Computing angle between updates - epoch 51\n",
      "Alignment criterion: -0.218093447705 > 0 False \n",
      "\n",
      "Cost: 18292.2648594\n",
      "Computing angle between updates - epoch 61\n",
      "Alignment criterion: 0.0119682901071 > 0 True \n",
      "\n",
      "Cost: 11969.1250483\n",
      "Computing angle between updates - epoch 71\n",
      "Alignment criterion: 0.451636840455 > 0 True \n",
      "\n",
      "Cost: 7447.27719164\n",
      "Computing angle between updates - epoch 81\n",
      "Alignment criterion: 0.625484303329 > 0 True \n",
      "\n",
      "Cost: 4411.63407787\n",
      "Computing angle between updates - epoch 91\n",
      "Alignment criterion: 0.686023309272 > 0 True \n",
      "\n",
      "Cost: 2511.50920961\n",
      "Computing angle between updates - epoch 101\n",
      "Alignment criterion: 0.702979888389 > 0 True \n",
      "\n",
      "Cost: 1386.45027257\n",
      "Computing angle between updates - epoch 111\n",
      "Alignment criterion: 0.699403549912 > 0 True \n",
      "\n",
      "Cost: 747.636769309\n",
      "Computing angle between updates - epoch 121\n",
      "Alignment criterion: 0.684694656662 > 0 True \n",
      "\n",
      "Cost: 396.11533007\n",
      "Computing angle between updates - epoch 131\n",
      "Alignment criterion: 0.663527486208 > 0 True \n",
      "\n",
      "Cost: 207.154739132\n",
      "Computing angle between updates - epoch 141\n",
      "Alignment criterion: 0.638592617506 > 0 True \n",
      "\n",
      "Cost: 107.318268341\n",
      "Computing angle between updates - epoch 151\n",
      "Alignment criterion: 0.611588639003 > 0 True \n",
      "\n",
      "Cost: 55.2282451438\n",
      "Computing angle between updates - epoch 161\n",
      "Alignment criterion: 0.583642882572 > 0 True \n",
      "\n",
      "Cost: 28.2920889482\n",
      "Computing angle between updates - epoch 171\n",
      "Alignment criterion: 0.555520470734 > 0 True \n",
      "\n",
      "Cost: 14.4495607904\n",
      "Computing angle between updates - epoch 181\n",
      "Alignment criterion: 0.527742969644 > 0 True \n",
      "\n",
      "Cost: 7.36569530763\n",
      "Computing angle between updates - epoch 191\n",
      "Alignment criterion: 0.500661986542 > 0 True \n",
      "\n",
      "Cost: 3.75045419022\n",
      "Computing angle between updates - epoch 201\n",
      "Alignment criterion: 0.474507129514 > 0 True \n",
      "\n",
      "Cost: 1.90853643859\n",
      "Computing angle between updates - epoch 211\n",
      "Alignment criterion: 0.449418124722 > 0 True \n",
      "\n",
      "Cost: 0.971004761498\n",
      "Computing angle between updates - epoch 221\n",
      "Alignment criterion: 0.425466764066 > 0 True \n",
      "\n",
      "Cost: 0.494024697765\n",
      "Computing angle between updates - epoch 231\n",
      "Alignment criterion: 0.402672226782 > 0 True \n",
      "\n",
      "Cost: 0.251388345572\n",
      "Computing angle between updates - epoch 241\n",
      "Alignment criterion: 0.381012037147 > 0 True \n",
      "\n",
      "Cost: 0.127951800358\n",
      "Computing angle between updates - epoch 251\n",
      "Alignment criterion: 0.360430092033 > 0 True \n",
      "\n",
      "Cost: 0.0651432892591\n",
      "Computing angle between updates - epoch 261\n",
      "Alignment criterion: 0.340842652039 > 0 True \n",
      "\n",
      "Cost: 0.0331757045451\n",
      "Computing angle between updates - epoch 271\n",
      "Alignment criterion: 0.322142845965 > 0 True \n",
      "\n",
      "Cost: 0.0169003362111\n",
      "Computing angle between updates - epoch 281\n",
      "Alignment criterion: 0.304204027089 > 0 True \n",
      "\n",
      "Cost: 0.00861168661456\n",
      "Computing angle between updates - epoch 291\n",
      "Alignment criterion: 0.286882194968 > 0 True \n",
      "\n",
      "Cost: 0.00438923932396\n",
      "Computing angle between updates - epoch 301\n",
      "Alignment criterion: 0.270017625647 > 0 True \n",
      "\n",
      "Cost: 0.00223762796257\n",
      "Computing angle between updates - epoch 311\n",
      "Alignment criterion: 0.253435814993 > 0 True \n",
      "\n",
      "Cost: 0.00114096754126\n",
      "Computing angle between updates - epoch 321\n",
      "Alignment criterion: 0.236947820819 > 0 True \n",
      "\n"
     ]
    }
   ],
   "source": [
    "# LET'S TRAIN!\n",
    "M, samples, targets = create_dataset(10, 10, 10000)\n",
    "w1, w2, angles, Lk = train(samples, targets, 10, 10, 1000) "
   ]
  },
  {
   "cell_type": "markdown",
   "metadata": {},
   "source": [
    "Let's define an error $$D = \\sum_{i, j}|M_{ij}-O_{ij}|$$"
   ]
  },
  {
   "cell_type": "code",
   "execution_count": 74,
   "metadata": {
    "collapsed": false
   },
   "outputs": [
    {
     "name": "stdout",
     "output_type": "stream",
     "text": [
      "D: 0.000866367926335\n"
     ]
    }
   ],
   "source": [
    "O = np.dot(w2, w1)\n",
    "print 'D:', np.sum(np.abs(M-O))"
   ]
  },
  {
   "cell_type": "code",
   "execution_count": 75,
   "metadata": {
    "collapsed": false
   },
   "outputs": [
    {
     "data": {
      "text/plain": [
       "(0, 100)"
      ]
     },
     "execution_count": 75,
     "metadata": {},
     "output_type": "execute_result"
    },
    {
     "data": {
      "image/png": "[encoded data removed]",
      "text/plain": [
       "<matplotlib.figure.Figure at 0x11cdeecd0>"
      ]
     },
     "metadata": {},
     "output_type": "display_data"
    }
   ],
   "source": [
    "plt.plot(range(len(angles)), angles)\n",
    "plt.xlabel('Iterations/50')\n",
    "plt.ylabel('Angle (degrees)')\n",
    "plt.xlim([0, range(len(angles))[-1]])\n",
    "plt.ylim([0, 100])"
   ]
  },
  {
   "cell_type": "code",
   "execution_count": 76,
   "metadata": {
    "collapsed": false
   },
   "outputs": [
    {
     "data": {
      "text/plain": [
       "<matplotlib.text.Text at 0x11d9ed290>"
      ]
     },
     "execution_count": 76,
     "metadata": {},
     "output_type": "execute_result"
    },
    {
     "data": {
      "image/png": "[encoded data removed]",
      "text/plain": [
       "<matplotlib.figure.Figure at 0x11d97ae90>"
      ]
     },
     "metadata": {},
     "output_type": "display_data"
    }
   ],
   "source": [
    "plt.plot(range(len(Lk)), Lk)\n",
    "plt.xlim([0, range(len(Lk))[-1]])\n",
    "plt.xlabel('Iterations/50')\n",
    "plt.ylabel('Alignment criterion')"
   ]
  },
  {
   "cell_type": "code",
   "execution_count": 77,
   "metadata": {
    "collapsed": false
   },
   "outputs": [
    {
     "data": {
      "text/plain": [
       "array([[ -9,  -8,  -3,  -3,   1, -10,   7,  -3, -10,  -9],\n",
       "       [ -7,  -1,   4,  -3,  -5, -10,  -5,   9,  -8,  -4],\n",
       "       [ -2,   9,  -8,   5,  -8,   7,  -5,  -2,  -3,  -6],\n",
       "       [  7,  -9,   0,   4,  -9,  -8,  -4,  -6,  -9,   0],\n",
       "       [  4,  -9,  -5,   5,  -3,   3,   2,  -3,  -1,  -4],\n",
       "       [ -8,   5,  -4,  -9,   2,   3,  -4,   1,  -2,  -8],\n",
       "       [  8,   3,  -9, -10,  -5,  -2,   2,  -4,   0,   6],\n",
       "       [ -3,  -8,  -1,   1,   4,   2,   4,   9,   0,  -2],\n",
       "       [ -1,   6,  -1,  -2,   2,   8,   7,  -5,   5,   1],\n",
       "       [ -6,   2,  -2,  -3,  -1,  -4,  -9,   7,   1,  -4]])"
      ]
     },
     "execution_count": 77,
     "metadata": {},
     "output_type": "execute_result"
    }
   ],
   "source": [
    "M"
   ]
  },
  {
   "cell_type": "code",
   "execution_count": 78,
   "metadata": {
    "collapsed": false
   },
   "outputs": [
    {
     "data": {
      "text/plain": [
       "array([[ -9.00000281e+00,  -8.00000133e+00,  -3.00000061e+00,\n",
       "         -2.99999968e+00,   9.99999612e-01,  -9.99999862e+00,\n",
       "          6.99999904e+00,  -3.00000057e+00,  -1.00000004e+01,\n",
       "         -8.99999761e+00],\n",
       "       [ -7.00002344e+00,  -1.00001110e+00,   3.99999489e+00,\n",
       "         -2.99999735e+00,  -5.00000324e+00,  -9.99998852e+00,\n",
       "         -5.00000801e+00,   8.99999523e+00,  -8.00000355e+00,\n",
       "         -3.99998005e+00],\n",
       "       [ -1.99999894e+00,   9.00000050e+00,  -7.99999977e+00,\n",
       "          4.99999988e+00,  -7.99999985e+00,   6.99999948e+00,\n",
       "         -4.99999964e+00,  -1.99999978e+00,  -2.99999984e+00,\n",
       "         -6.00000090e+00],\n",
       "       [  7.00004256e+00,  -8.99997984e+00,   9.26950048e-06,\n",
       "          3.99999518e+00,  -8.99999412e+00,  -8.00002085e+00,\n",
       "         -3.99998547e+00,  -5.99999134e+00,  -8.99999356e+00,\n",
       "         -3.62275376e-05],\n",
       "       [  3.99995909e+00,  -9.00001938e+00,  -5.00000891e+00,\n",
       "          5.00000463e+00,  -3.00000565e+00,   3.00002004e+00,\n",
       "          1.99998603e+00,  -3.00000832e+00,  -1.00000619e+00,\n",
       "         -3.99996518e+00],\n",
       "       [ -8.00000178e+00,   4.99999916e+00,  -4.00000039e+00,\n",
       "         -8.99999980e+00,   1.99999975e+00,   3.00000087e+00,\n",
       "         -4.00000061e+00,   9.99999639e-01,  -2.00000027e+00,\n",
       "         -7.99999849e+00],\n",
       "       [  8.00000135e+00,   3.00000064e+00,  -8.99999971e+00,\n",
       "         -1.00000002e+01,  -4.99999981e+00,  -2.00000066e+00,\n",
       "          2.00000046e+00,  -3.99999972e+00,   2.04644556e-07,\n",
       "          5.99999885e+00],\n",
       "       [ -2.99996769e+00,  -7.99998470e+00,  -9.99992964e-01,\n",
       "          9.99996344e-01,   4.00000446e+00,   1.99998417e+00,\n",
       "          4.00001103e+00,   9.00000657e+00,   4.88927494e-06,\n",
       "         -2.00002750e+00],\n",
       "       [ -9.99959238e-01,   6.00001930e+00,  -9.99991123e-01,\n",
       "         -2.00000461e+00,   2.00000563e+00,   7.99998003e+00,\n",
       "          7.00001392e+00,  -4.99999171e+00,   5.00000617e+00,\n",
       "          9.99965305e-01],\n",
       "       [ -5.99996930e+00,   2.00001454e+00,  -1.99999331e+00,\n",
       "         -3.00000347e+00,  -9.99995762e-01,  -4.00001504e+00,\n",
       "         -8.99998952e+00,   7.00000625e+00,   1.00000465e+00,\n",
       "         -4.00002613e+00]])"
      ]
     },
     "execution_count": 78,
     "metadata": {},
     "output_type": "execute_result"
    }
   ],
   "source": [
    "O"
   ]
  },
  {
   "cell_type": "code",
   "execution_count": null,
   "metadata": {
    "collapsed": true
   },
   "outputs": [],
   "source": []
  }
 ],
 "metadata": {
  "kernelspec": {
   "display_name": "Python 2",
   "language": "python",
   "name": "python2"
  },
  "language_info": {
   "codemirror_mode": {
    "name": "ipython",
    "version": 2
   },
   "file_extension": ".py",
   "mimetype": "text/x-python",
   "name": "python",
   "nbconvert_exporter": "python",
   "pygments_lexer": "ipython2",
   "version": "2.7.10"
  }
 },
 "nbformat": 4,
 "nbformat_minor": 0
}
