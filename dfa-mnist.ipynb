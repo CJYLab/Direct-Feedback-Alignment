{
 "cells": [
  {
   "cell_type": "markdown",
   "metadata": {},
   "source": [
    "# DIRECT FEEDBACK ALIGNMENT ON MNIST"
   ]
  },
  {
   "cell_type": "code",
   "execution_count": 3,
   "metadata": {
    "collapsed": false
   },
   "outputs": [
    {
     "name": "stderr",
     "output_type": "stream",
     "text": [
      "Using TensorFlow backend.\n"
     ]
    }
   ],
   "source": [
    "import matplotlib.pyplot as plt\n",
    "import numpy as np\n",
    "from keras.datasets import mnist\n",
    "from keras.utils.np_utils import to_categorical\n",
    "np.random.seed(1234)\n",
    "%matplotlib inline"
   ]
  },
  {
   "cell_type": "code",
   "execution_count": 4,
   "metadata": {
    "collapsed": true
   },
   "outputs": [],
   "source": [
    "(X_train, y_train), (X_test, y_test) = mnist.load_data()"
   ]
  },
  {
   "cell_type": "code",
   "execution_count": 5,
   "metadata": {
    "collapsed": false
   },
   "outputs": [],
   "source": [
    "X_train = X_train.astype('float32')\n",
    "X_test = X_test.astype('float32')\n",
    "\n",
    "X_train /= 255\n",
    "X_test /= 255"
   ]
  },
  {
   "cell_type": "code",
   "execution_count": 6,
   "metadata": {
    "collapsed": false
   },
   "outputs": [
    {
     "data": {
      "text/plain": [
       "<matplotlib.image.AxesImage at 0x10bbe6590>"
      ]
     },
     "execution_count": 6,
     "metadata": {},
     "output_type": "execute_result"
    },
    {
     "data": {
      "image/png": "[encoded data removed]",
      "text/plain": [
       "<matplotlib.figure.Figure at 0x10da03350>"
      ]
     },
     "metadata": {},
     "output_type": "display_data"
    }
   ],
   "source": [
    "plt.imshow(X_train[0])"
   ]
  },
  {
   "cell_type": "code",
   "execution_count": 7,
   "metadata": {
    "collapsed": false
   },
   "outputs": [
    {
     "name": "stdout",
     "output_type": "stream",
     "text": [
      "(60000, 28, 28) (10000, 28, 28)\n",
      "(60000,) (10000,)\n"
     ]
    }
   ],
   "source": [
    "print X_train.shape, X_test.shape\n",
    "print y_train.shape, y_test.shape"
   ]
  },
  {
   "cell_type": "code",
   "execution_count": 8,
   "metadata": {
    "collapsed": false
   },
   "outputs": [
    {
     "name": "stdout",
     "output_type": "stream",
     "text": [
      "(60000, 784) (10000, 784)\n"
     ]
    }
   ],
   "source": [
    "X_train = X_train.reshape(60000, 28*28)\n",
    "X_test = X_test.reshape(10000, 28*28)\n",
    "\n",
    "print X_train.shape, X_test.shape"
   ]
  },
  {
   "cell_type": "code",
   "execution_count": 9,
   "metadata": {
    "collapsed": false
   },
   "outputs": [
    {
     "data": {
      "text/plain": [
       "5"
      ]
     },
     "execution_count": 9,
     "metadata": {},
     "output_type": "execute_result"
    }
   ],
   "source": [
    "y_train[0]"
   ]
  },
  {
   "cell_type": "code",
   "execution_count": 10,
   "metadata": {
    "collapsed": true
   },
   "outputs": [],
   "source": [
    "nb_classes = 10\n",
    "y_train = to_categorical(y_train, nb_classes)\n",
    "y_test = to_categorical(y_test, nb_classes)"
   ]
  },
  {
   "cell_type": "code",
   "execution_count": 11,
   "metadata": {
    "collapsed": false
   },
   "outputs": [
    {
     "data": {
      "text/plain": [
       "array([ 0.,  0.,  0.,  0.,  0.,  1.,  0.,  0.,  0.,  0.])"
      ]
     },
     "execution_count": 11,
     "metadata": {},
     "output_type": "execute_result"
    }
   ],
   "source": [
    "y_train[0]"
   ]
  },
  {
   "cell_type": "code",
   "execution_count": 12,
   "metadata": {
    "collapsed": false
   },
   "outputs": [
    {
     "data": {
      "text/plain": [
       "1.0"
      ]
     },
     "execution_count": 12,
     "metadata": {},
     "output_type": "execute_result"
    }
   ],
   "source": [
    "y_train[0, 5]"
   ]
  },
  {
   "cell_type": "code",
   "execution_count": 13,
   "metadata": {
    "collapsed": true
   },
   "outputs": [],
   "source": [
    "from scipy.special import expit"
   ]
  },
  {
   "cell_type": "code",
   "execution_count": 14,
   "metadata": {
    "collapsed": true
   },
   "outputs": [],
   "source": [
    "def forward_pass(W1, W2, b1, b2, x):\n",
    "    '''This is the forward pass. It is equal for any\n",
    "    training algorithm. It's just one hidden layer\n",
    "    with tanh activation function and sigmoid on the\n",
    "    output layer'''\n",
    "    a1 = np.matmul(W1, x)+b1 # usare np.tile\n",
    "    h1 = np.tanh(a1)\n",
    "    a2 = np.matmul(W2, h1)+b2 #usare np.tile\n",
    "    y_hat = expit(a2)\n",
    "    return a1, h1, a2, y_hat"
   ]
  },
  {
   "cell_type": "code",
   "execution_count": 15,
   "metadata": {
    "collapsed": false
   },
   "outputs": [
    {
     "name": "stdout",
     "output_type": "stream",
     "text": [
      "(784, 1)\n"
     ]
    }
   ],
   "source": [
    "input = X_train[0]\n",
    "input = input[:, np.newaxis]\n",
    "print input.shape"
   ]
  },
  {
   "cell_type": "code",
   "execution_count": 16,
   "metadata": {
    "collapsed": true
   },
   "outputs": [],
   "source": [
    "W1, W2 = np.random.randn(800, 784), np.random.randn(10, 800)\n",
    "b1, b2 = np.random.randn(800, 1), np.random.randn(10, 1)"
   ]
  },
  {
   "cell_type": "code",
   "execution_count": 17,
   "metadata": {
    "collapsed": false
   },
   "outputs": [],
   "source": [
    "a1, h1, a2, y_hat = forward_pass(W1, W2, b1, b2, input)"
   ]
  },
  {
   "cell_type": "code",
   "execution_count": 18,
   "metadata": {
    "collapsed": true
   },
   "outputs": [],
   "source": [
    "from sklearn.metrics import log_loss"
   ]
  },
  {
   "cell_type": "code",
   "execution_count": 19,
   "metadata": {
    "collapsed": false
   },
   "outputs": [
    {
     "data": {
      "text/plain": [
       "7.7855264408909708"
      ]
     },
     "execution_count": 19,
     "metadata": {},
     "output_type": "execute_result"
    }
   ],
   "source": [
    "log_loss(y_train[0], y_hat)"
   ]
  },
  {
   "cell_type": "code",
   "execution_count": 74,
   "metadata": {
    "collapsed": true
   },
   "outputs": [],
   "source": [
    "def backprop_backward_pass(e, h1, W2, a1, x):\n",
    "    dW2 = -np.matmul(e, np.transpose(h1))\n",
    "    da1 = np.matmul(np.transpose(W2), e)*(1-np.tanh(a1)**2)\n",
    "    dW1 = -np.matmul(da1, np.transpose(x))\n",
    "    db1 = -da1\n",
    "    db2 = -e\n",
    "    return dW1, dW2, db1, db2"
   ]
  },
  {
   "cell_type": "code",
   "execution_count": 21,
   "metadata": {
    "collapsed": false
   },
   "outputs": [],
   "source": [
    "e = y_hat - y_train[0][:, np.newaxis]\n",
    "dW1, dW2, db1, db2 = backprop_backward_pass(e, h1, W2, a1, input)"
   ]
  },
  {
   "cell_type": "code",
   "execution_count": 77,
   "metadata": {
    "collapsed": false
   },
   "outputs": [],
   "source": [
    "def train(x, y, n_epochs=10, lr=1e-3, batch_size=200, tol=1e-1):\n",
    "    x = np.transpose(x)\n",
    "    y = np.transpose(y)\n",
    "    \n",
    "    W1, W2 = np.random.randn(800, 784), np.random.randn(10, 800)\n",
    "    b1, b2 = np.random.randn(800, 1), np.random.randn(10, 1)\n",
    "    \n",
    "    dataset_size = x.shape[1]\n",
    "    n_batches = dataset_size//batch_size\n",
    "    \n",
    "    for i in xrange(n_epochs):\n",
    "        perm = np.random.permutation(x.shape[1])\n",
    "        x = x[:, perm]\n",
    "        y = y[:, perm]\n",
    "        #plt.imshow(x[:, 0].reshape(28, 28))\n",
    "        #print np.argmax(y, axis=0)[0]\n",
    "        loss = 0.\n",
    "        train_error = 0.\n",
    "        for j in xrange(n_batches):\n",
    "            if j%50==0:\n",
    "                print 'Batch #', j\n",
    "            samples = x[:, j*batch_size:(j+1)*batch_size]\n",
    "            targets = y[:, j*batch_size:(j+1)*batch_size]\n",
    "            a1, h1, a2, y_hat = forward_pass(W1, W2, b1, b2, samples) #modificare forward_pass e usare np.tile per\n",
    "            # aggiungere b1 e b2 ---- +np.tile(b1, batch_size)\n",
    "            error = y_hat - targets\n",
    "            preds = np.argmax(y_hat, axis=0) \n",
    "            truth = np.argmax(targets, axis=0)\n",
    "            train_error += 1.*np.sum(preds!=truth)\n",
    "            loss_on_batch = log_loss(targets, y_hat)\n",
    "            \n",
    "            dW1, dW2, db1, db2 = backprop_backward_pass(error, h1, W2, a1, samples)\n",
    "            W1 += lr*dW1\n",
    "            W2 += lr*dW2\n",
    "            b2 += lr*error\n",
    "            b1 += lr*db1\n",
    "            loss += loss_on_batch\n",
    "        print 'Loss at epoch', i, ':', loss/x.shape[1]\n",
    "        print 'Training error:', train_error/x.shape[1]\n",
    "        if loss <= tol:\n",
    "            break\n",
    "    return W1, W2, b1, b2"
   ]
  },
  {
   "cell_type": "code",
   "execution_count": 78,
   "metadata": {
    "collapsed": false,
    "scrolled": true
   },
   "outputs": [
    {
     "name": "stdout",
     "output_type": "stream",
     "text": [
      "Batch # 0\n",
      "Batch # 50\n",
      "Batch # 100\n",
      "Batch # 150\n",
      "Batch # 200\n",
      "Batch # 250\n",
      "Loss at epoch 0 : 0.683592805046\n",
      "Training error: 0.219966666667\n",
      "Batch # 0\n",
      "Batch # 50\n",
      "Batch # 100\n",
      "Batch # 150\n",
      "Batch # 200\n",
      "Batch # 250\n",
      "Loss at epoch 1 : 0.4814483549\n",
      "Training error: 0.113416666667\n",
      "Batch # 0\n",
      "Batch # 50\n",
      "Batch # 100\n",
      "Batch # 150\n",
      "Batch # 200\n",
      "Batch # 250\n",
      "Loss at epoch 2 : 0.438704416089\n",
      "Training error: 0.0918\n",
      "Batch # 0\n",
      "Batch # 50\n",
      "Batch # 100\n",
      "Batch # 150\n",
      "Batch # 200\n",
      "Batch # 250\n",
      "Loss at epoch 3 : 0.413186203122\n",
      "Training error: 0.0776\n",
      "Batch # 0\n",
      "Batch # 50\n",
      "Batch # 100\n",
      "Batch # 150\n",
      "Batch # 200\n",
      "Batch # 250\n",
      "Loss at epoch 4 : 0.396604832907\n",
      "Training error: 0.0686833333333\n",
      "Batch # 0\n",
      "Batch # 50\n",
      "Batch # 100\n",
      "Batch # 150\n",
      "Batch # 200\n",
      "Batch # 250\n",
      "Loss at epoch 5 : 0.384245381995\n",
      "Training error: 0.0619833333333\n",
      "Batch # 0\n",
      "Batch # 50\n",
      "Batch # 100\n",
      "Batch # 150\n",
      "Batch # 200\n",
      "Batch # 250\n",
      "Loss at epoch 6 : 0.373785547355\n",
      "Training error: 0.0563333333333\n",
      "Batch # 0\n",
      "Batch # 50\n",
      "Batch # 100\n",
      "Batch # 150\n",
      "Batch # 200\n",
      "Batch # 250\n",
      "Loss at epoch 7 : 0.365142973738\n",
      "Training error: 0.0506833333333\n",
      "Batch # 0\n",
      "Batch # 50\n",
      "Batch # 100\n",
      "Batch # 150\n",
      "Batch # 200\n",
      "Batch # 250\n",
      "Loss at epoch 8 : 0.359701104089\n",
      "Training error: 0.0464666666667\n",
      "Batch # 0\n",
      "Batch # 50\n",
      "Batch # 100\n",
      "Batch # 150\n",
      "Batch # 200\n",
      "Batch # 250\n",
      "Loss at epoch 9 : 0.354424089779\n",
      "Training error: 0.0441333333333\n"
     ]
    }
   ],
   "source": [
    "nW1, nW2, nb1, nb2 = train(X_train, y_train)"
   ]
  },
  {
   "cell_type": "code",
   "execution_count": 93,
   "metadata": {
    "collapsed": true
   },
   "outputs": [],
   "source": [
    "def dfa_backward_pass(e, h1, B1, a1, x):\n",
    "    dW2 = -np.matmul(e, np.transpose(h1))\n",
    "    da1 = np.matmul(B1, e)*(1-np.tanh(a1)**2)\n",
    "    dW1 = -np.matmul(da1, np.transpose(x))\n",
    "    db1 = -da1\n",
    "    db2 = -e\n",
    "    return dW1, dW2, db1, db2"
   ]
  },
  {
   "cell_type": "code",
   "execution_count": 94,
   "metadata": {
    "collapsed": true
   },
   "outputs": [],
   "source": [
    "def dfa_train(x, y, n_epochs=10, lr=1e-3, batch_size=200, tol=1e-1):\n",
    "    x = np.transpose(x)\n",
    "    y = np.transpose(y)\n",
    "    \n",
    "    W1, W2 = np.random.randn(800, 784), np.random.randn(10, 800)\n",
    "    b1, b2 = np.random.randn(800, batch_size), np.random.randn(10, batch_size)\n",
    "    \n",
    "    B1 = np.random.randn(800, 10)\n",
    "    dataset_size = x.shape[1]\n",
    "    n_batches = dataset_size//batch_size\n",
    "    \n",
    "    for i in xrange(n_epochs):\n",
    "        perm = np.random.permutation(x.shape[1])\n",
    "        x = x[:, perm]\n",
    "        y = y[:, perm]\n",
    "        #plt.imshow(x[:, 0].reshape(28, 28))\n",
    "        #print np.argmax(y, axis=0)[0]\n",
    "        loss = 0.\n",
    "        train_error = 0.\n",
    "        for j in xrange(n_batches):\n",
    "            if j%50==0:\n",
    "                print 'Batch #', j\n",
    "            samples = x[:, j*batch_size:(j+1)*batch_size]\n",
    "            targets = y[:, j*batch_size:(j+1)*batch_size]\n",
    "            a1, h1, a2, y_hat = forward_pass(W1, W2, b1, b2, samples)\n",
    "            error = y_hat - targets\n",
    "            preds = np.argmax(y_hat, axis=0) \n",
    "            truth = np.argmax(targets, axis=0)\n",
    "            train_error += 1.*np.sum(preds!=truth)\n",
    "            loss_on_batch = log_loss(targets, y_hat)\n",
    "            \n",
    "            dW1, dW2, db1, db2 = dfa_backward_pass(error, h1, B1, a1, samples)\n",
    "            W1 += lr*dW1\n",
    "            W2 += lr*dW2\n",
    "            b2 += lr*error\n",
    "            b1 += lr*db1\n",
    "            loss += loss_on_batch\n",
    "        print 'Loss at epoch', i, ':', loss/x.shape[1]\n",
    "        print 'Training error:', train_error/x.shape[1]\n",
    "        if loss <= tol:\n",
    "            break\n",
    "    return W1, W2, b1, b2"
   ]
  },
  {
   "cell_type": "code",
   "execution_count": 96,
   "metadata": {
    "collapsed": false
   },
   "outputs": [
    {
     "name": "stdout",
     "output_type": "stream",
     "text": [
      "Batch # 0\n",
      "Batch # 50\n",
      "Batch # 100\n",
      "Batch # 150\n",
      "Batch # 200\n",
      "Batch # 250\n",
      "Loss at epoch 0 : 0.683397809826\n",
      "Training error: 0.2211\n",
      "Batch # 0\n",
      "Batch # 50\n",
      "Batch # 100\n",
      "Batch # 150\n",
      "Batch # 200\n",
      "Batch # 250\n",
      "Loss at epoch 1 : 0.476418312413\n",
      "Training error: 0.111483333333\n",
      "Batch # 0\n",
      "Batch # 50\n",
      "Batch # 100\n",
      "Batch # 150\n",
      "Batch # 200\n",
      "Batch # 250\n",
      "Loss at epoch 2 : 0.432522037757\n",
      "Training error: 0.08885\n",
      "Batch # 0\n",
      "Batch # 50\n",
      "Batch # 100\n",
      "Batch # 150\n",
      "Batch # 200\n",
      "Batch # 250\n",
      "Loss at epoch 3 : 0.408683172545\n",
      "Training error: 0.0751333333333\n",
      "Batch # 0\n",
      "Batch # 50\n",
      "Batch # 100\n",
      "Batch # 150\n",
      "Batch # 200\n",
      "Batch # 250\n",
      "Loss at epoch 4 : 0.39164081044\n",
      "Training error: 0.06635\n",
      "Batch # 0\n",
      "Batch # 50\n",
      "Batch # 100\n",
      "Batch # 150\n",
      "Batch # 200\n",
      "Batch # 250\n",
      "Loss at epoch 5 : 0.379940137792\n",
      "Training error: 0.0598666666667\n",
      "Batch # 0\n",
      "Batch # 50\n",
      "Batch # 100\n",
      "Batch # 150\n",
      "Batch # 200\n",
      "Batch # 250\n",
      "Loss at epoch 6 : 0.370439574007\n",
      "Training error: 0.05435\n",
      "Batch # 0\n",
      "Batch # 50\n",
      "Batch # 100\n",
      "Batch # 150\n",
      "Batch # 200\n",
      "Batch # 250\n",
      "Loss at epoch 7 : 0.362527801871\n",
      "Training error: 0.0483166666667\n",
      "Batch # 0\n",
      "Batch # 50\n",
      "Batch # 100\n",
      "Batch # 150\n",
      "Batch # 200\n",
      "Batch # 250\n",
      "Loss at epoch 8 : 0.356886926982\n",
      "Training error: 0.0452333333333\n",
      "Batch # 0\n",
      "Batch # 50\n",
      "Batch # 100\n",
      "Batch # 150\n",
      "Batch # 200\n",
      "Batch # 250\n",
      "Loss at epoch 9 : 0.350549964779\n",
      "Training error: 0.0425\n",
      "Batch # 0\n",
      "Batch # 50\n",
      "Batch # 100\n",
      "Batch # 150\n",
      "Batch # 200\n",
      "Batch # 250\n",
      "Loss at epoch 10 : 0.347061652416\n",
      "Training error: 0.0396333333333\n",
      "Batch # 0\n",
      "Batch # 50\n",
      "Batch # 100\n",
      "Batch # 150\n",
      "Batch # 200\n",
      "Batch # 250\n",
      "Loss at epoch 11 : 0.343209814346\n",
      "Training error: 0.03755\n",
      "Batch # 0\n",
      "Batch # 50\n",
      "Batch # 100\n",
      "Batch # 150\n",
      "Batch # 200\n",
      "Batch # 250\n",
      "Loss at epoch 12 : 0.340525021941\n",
      "Training error: 0.0346\n",
      "Batch # 0\n",
      "Batch # 50\n",
      "Batch # 100\n",
      "Batch # 150\n",
      "Batch # 200\n",
      "Batch # 250\n",
      "Loss at epoch 13 : 0.337159900682\n",
      "Training error: 0.0329666666667\n",
      "Batch # 0\n",
      "Batch # 50\n",
      "Batch # 100\n",
      "Batch # 150\n",
      "Batch # 200\n",
      "Batch # 250\n",
      "Loss at epoch 14 : 0.33465994062\n",
      "Training error: 0.0303333333333\n",
      "Batch # 0\n",
      "Batch # 50\n",
      "Batch # 100\n",
      "Batch # 150\n",
      "Batch # 200\n",
      "Batch # 250\n",
      "Loss at epoch 15 : 0.332118775723\n",
      "Training error: 0.0291166666667\n",
      "Batch # 0\n",
      "Batch # 50\n",
      "Batch # 100\n",
      "Batch # 150\n",
      "Batch # 200\n",
      "Batch # 250\n",
      "Loss at epoch 16 : 0.330266065483\n",
      "Training error: 0.0274166666667\n",
      "Batch # 0\n",
      "Batch # 50\n",
      "Batch # 100\n",
      "Batch # 150\n",
      "Batch # 200\n",
      "Batch # 250\n",
      "Loss at epoch 17 : 0.328826798728\n",
      "Training error: 0.0262333333333\n",
      "Batch # 0\n",
      "Batch # 50\n",
      "Batch # 100\n",
      "Batch # 150\n",
      "Batch # 200\n",
      "Batch # 250\n",
      "Loss at epoch 18 : 0.326702968778\n",
      "Training error: 0.0245666666667\n",
      "Batch # 0\n",
      "Batch # 50\n",
      "Batch # 100\n",
      "Batch # 150\n",
      "Batch # 200\n",
      "Batch # 250\n",
      "Loss at epoch 19 : 0.325919144958\n",
      "Training error: 0.0233333333333\n",
      "Batch # 0\n",
      "Batch # 50\n",
      "Batch # 100\n",
      "Batch # 150\n",
      "Batch # 200\n",
      "Batch # 250\n",
      "Loss at epoch 20 : 0.324236916373\n",
      "Training error: 0.02185\n",
      "Batch # 0\n",
      "Batch # 50\n",
      "Batch # 100\n",
      "Batch # 150\n",
      "Batch # 200\n",
      "Batch # 250\n",
      "Loss at epoch 21 : 0.323003051473\n",
      "Training error: 0.02105\n",
      "Batch # 0\n",
      "Batch # 50\n",
      "Batch # 100\n",
      "Batch # 150\n",
      "Batch # 200\n",
      "Batch # 250\n",
      "Loss at epoch 22 : 0.32217113687\n",
      "Training error: 0.02105\n",
      "Batch # 0\n",
      "Batch # 50\n",
      "Batch # 100\n",
      "Batch # 150\n",
      "Batch # 200\n",
      "Batch # 250\n",
      "Loss at epoch 23 : 0.320812564654\n",
      "Training error: 0.0194166666667\n",
      "Batch # 0\n",
      "Batch # 50\n",
      "Batch # 100\n",
      "Batch # 150\n",
      "Batch # 200\n",
      "Batch # 250\n",
      "Loss at epoch 24 : 0.319338189115\n",
      "Training error: 0.01855\n",
      "Batch # 0\n",
      "Batch # 50\n",
      "Batch # 100\n",
      "Batch # 150\n",
      "Batch # 200\n",
      "Batch # 250\n",
      "Loss at epoch 25 : 0.318834044468\n",
      "Training error: 0.01765\n",
      "Batch # 0\n",
      "Batch # 50\n",
      "Batch # 100\n",
      "Batch # 150\n",
      "Batch # 200\n",
      "Batch # 250\n",
      "Loss at epoch 26 : 0.318007352937\n",
      "Training error: 0.0169833333333\n",
      "Batch # 0\n",
      "Batch # 50\n",
      "Batch # 100\n",
      "Batch # 150\n",
      "Batch # 200\n",
      "Batch # 250\n",
      "Loss at epoch 27 : 0.317081252587\n",
      "Training error: 0.0158\n",
      "Batch # 0\n",
      "Batch # 50\n",
      "Batch # 100\n",
      "Batch # 150\n",
      "Batch # 200\n",
      "Batch # 250\n",
      "Loss at epoch 28 : 0.316659572111\n",
      "Training error: 0.01575\n",
      "Batch # 0\n",
      "Batch # 50\n",
      "Batch # 100\n",
      "Batch # 150\n",
      "Batch # 200\n",
      "Batch # 250\n",
      "Loss at epoch 29 : 0.315553363042\n",
      "Training error: 0.0146166666667\n",
      "Batch # 0\n",
      "Batch # 50\n",
      "Batch # 100\n",
      "Batch # 150\n",
      "Batch # 200\n",
      "Batch # 250\n",
      "Loss at epoch 30 : 0.315639346691\n",
      "Training error: 0.01435\n",
      "Batch # 0\n",
      "Batch # 50\n",
      "Batch # 100\n",
      "Batch # 150\n",
      "Batch # 200\n",
      "Batch # 250\n",
      "Loss at epoch 31 : 0.31453484466\n",
      "Training error: 0.0137166666667\n",
      "Batch # 0\n",
      "Batch # 50\n",
      "Batch # 100\n",
      "Batch # 150\n",
      "Batch # 200\n",
      "Batch # 250\n",
      "Loss at epoch 32 : 0.314243972838\n",
      "Training error: 0.01315\n",
      "Batch # 0\n",
      "Batch # 50\n",
      "Batch # 100\n",
      "Batch # 150\n",
      "Batch # 200\n",
      "Batch # 250\n",
      "Loss at epoch 33 : 0.31356936528\n",
      "Training error: 0.0123333333333\n",
      "Batch # 0\n",
      "Batch # 50\n",
      "Batch # 100\n",
      "Batch # 150\n",
      "Batch # 200\n",
      "Batch # 250\n",
      "Loss at epoch 34 : 0.313235018091\n",
      "Training error: 0.0123333333333\n",
      "Batch # 0\n",
      "Batch # 50\n",
      "Batch # 100\n",
      "Batch # 150\n",
      "Batch # 200\n",
      "Batch # 250\n",
      "Loss at epoch 35 : 0.312601422189\n",
      "Training error: 0.01145\n",
      "Batch # 0\n",
      "Batch # 50\n",
      "Batch # 100\n",
      "Batch # 150\n",
      "Batch # 200\n",
      "Batch # 250\n",
      "Loss at epoch 36 : 0.312403757236\n",
      "Training error: 0.0117666666667\n",
      "Batch # 0\n",
      "Batch # 50\n",
      "Batch # 100\n",
      "Batch # 150\n",
      "Batch # 200\n",
      "Batch # 250\n",
      "Loss at epoch 37 : 0.312249909909\n",
      "Training error: 0.01135\n",
      "Batch # 0\n",
      "Batch # 50\n",
      "Batch # 100\n",
      "Batch # 150\n",
      "Batch # 200\n",
      "Batch # 250\n",
      "Loss at epoch 38 : 0.311569830719\n",
      "Training error: 0.01005\n",
      "Batch # 0\n",
      "Batch # 50\n",
      "Batch # 100\n",
      "Batch # 150\n",
      "Batch # 200\n",
      "Batch # 250\n",
      "Loss at epoch 39 : 0.311006308887\n",
      "Training error: 0.0102333333333\n",
      "Batch # 0\n",
      "Batch # 50\n",
      "Batch # 100\n",
      "Batch # 150\n",
      "Batch # 200\n",
      "Batch # 250\n",
      "Loss at epoch 40 : 0.310934512613\n",
      "Training error: 0.0096\n",
      "Batch # 0\n",
      "Batch # 50\n",
      "Batch # 100\n",
      "Batch # 150\n",
      "Batch # 200\n",
      "Batch # 250\n",
      "Loss at epoch 41 : 0.31033620073\n",
      "Training error: 0.00946666666667\n",
      "Batch # 0\n",
      "Batch # 50\n",
      "Batch # 100\n",
      "Batch # 150\n",
      "Batch # 200\n",
      "Batch # 250\n",
      "Loss at epoch 42 : 0.310242764073\n",
      "Training error: 0.00911666666667\n",
      "Batch # 0\n",
      "Batch # 50\n",
      "Batch # 100\n",
      "Batch # 150\n",
      "Batch # 200\n",
      "Batch # 250\n",
      "Loss at epoch 43 : 0.309813696431\n",
      "Training error: 0.00871666666667\n",
      "Batch # 0\n",
      "Batch # 50\n",
      "Batch # 100\n",
      "Batch # 150\n",
      "Batch # 200\n",
      "Batch # 250\n",
      "Loss at epoch 44 : 0.309736351379\n",
      "Training error: 0.0083\n",
      "Batch # 0\n",
      "Batch # 50\n",
      "Batch # 100\n",
      "Batch # 150\n",
      "Batch # 200\n",
      "Batch # 250\n",
      "Loss at epoch 45 : 0.309190441409\n",
      "Training error: 0.0075\n",
      "Batch # 0\n",
      "Batch # 50\n",
      "Batch # 100\n",
      "Batch # 150\n",
      "Batch # 200\n",
      "Batch # 250\n",
      "Loss at epoch 46 : 0.309144170541\n",
      "Training error: 0.00728333333333\n",
      "Batch # 0\n",
      "Batch # 50\n",
      "Batch # 100\n",
      "Batch # 150\n",
      "Batch # 200\n",
      "Batch # 250\n",
      "Loss at epoch 47 : 0.308914616744\n",
      "Training error: 0.00806666666667\n",
      "Batch # 0\n",
      "Batch # 50\n",
      "Batch # 100\n",
      "Batch # 150\n",
      "Batch # 200\n",
      "Batch # 250\n",
      "Loss at epoch 48 : 0.308906028151\n",
      "Training error: 0.00736666666667\n",
      "Batch # 0\n",
      "Batch # 50\n",
      "Batch # 100\n",
      "Batch # 150\n",
      "Batch # 200\n",
      "Batch # 250\n",
      "Loss at epoch 49 : 0.308650600583\n",
      "Training error: 0.00708333333333\n"
     ]
    }
   ],
   "source": [
    "nW1, nW2, nb1, nb2 = train(X_train, y_train, n_epochs=50, lr=1e-3, batch_size=200, tol=1e-2)"
   ]
  },
  {
   "cell_type": "code",
   "execution_count": 103,
   "metadata": {
    "collapsed": true
   },
   "outputs": [],
   "source": [
    "def test(W1, W2, test_samples, test_targets):\n",
    "    test_samples = np.transpose(test_samples)\n",
    "    test_targets = np.transpose(test_targets)\n",
    "    b1 = np.zeros((800, 10000))\n",
    "    b2 = np.zeros((10, 10000))\n",
    "    outs = forward_pass(W1, W2, b1, b2, test_samples)[-1]\n",
    "    preds = np.argmax(outs, axis=0) \n",
    "    truth = np.argmax(test_targets, axis=0)\n",
    "    test_error = 1.*np.sum(preds!=truth)/preds.shape[0]\n",
    "    return test_error"
   ]
  },
  {
   "cell_type": "code",
   "execution_count": 104,
   "metadata": {
    "collapsed": false
   },
   "outputs": [
    {
     "data": {
      "text/plain": [
       "0.0447"
      ]
     },
     "execution_count": 104,
     "metadata": {},
     "output_type": "execute_result"
    }
   ],
   "source": [
    "test(nW1, nW2, X_test, y_test)"
   ]
  },
  {
   "cell_type": "code",
   "execution_count": null,
   "metadata": {
    "collapsed": true
   },
   "outputs": [],
   "source": []
  }
 ],
 "metadata": {
  "kernelspec": {
   "display_name": "Python 2",
   "language": "python",
   "name": "python2"
  },
  "language_info": {
   "codemirror_mode": {
    "name": "ipython",
    "version": 2
   },
   "file_extension": ".py",
   "mimetype": "text/x-python",
   "name": "python",
   "nbconvert_exporter": "python",
   "pygments_lexer": "ipython2",
   "version": "2.7.10"
  }
 },
 "nbformat": 4,
 "nbformat_minor": 0
}
